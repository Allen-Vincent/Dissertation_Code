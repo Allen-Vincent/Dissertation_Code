{
 "cells": [
  {
   "cell_type": "code",
   "execution_count": 1,
   "metadata": {},
   "outputs": [
    {
     "name": "stderr",
     "output_type": "stream",
     "text": [
      "\u001b[32m\u001b[1m   Updating\u001b[22m\u001b[39m registry at `C:\\Users\\Allen Vincent\\.julia\\registries\\General`\n"
     ]
    },
    {
     "name": "stdout",
     "output_type": "stream",
     "text": [
      "\u001b[?25l"
     ]
    },
    {
     "name": "stderr",
     "output_type": "stream",
     "text": [
      "\u001b[32m\u001b[1m   Updating\u001b[22m\u001b[39m git-repo `https://github.com/JuliaRegistries/General.git`\n"
     ]
    },
    {
     "name": "stdout",
     "output_type": "stream",
     "text": [
      "\u001b[2K\u001b[36m\u001b[1mFetching:\u001b[22m\u001b[39m [========================================>]  100.0 %[===========>                             ]  25.2 %>                           ]  30.4 %]  37.7 % %>            ]  68.3 % [================================>        ]  78.6 %0 %\u001b[36m\u001b[1mFetching:\u001b[22m\u001b[39m [======================================>  ]  94.3 %\u001b[?25h"
     ]
    },
    {
     "name": "stderr",
     "output_type": "stream",
     "text": [
      "\u001b[32m\u001b[1m  Resolving\u001b[22m\u001b[39m package versions...\n",
      "\u001b[32m\u001b[1m   Updating\u001b[22m\u001b[39m `C:\\Users\\Allen Vincent\\.julia\\environments\\v1.4\\Project.toml`\n",
      "\u001b[90m [no changes]\u001b[39m\n",
      "\u001b[32m\u001b[1m   Updating\u001b[22m\u001b[39m `C:\\Users\\Allen Vincent\\.julia\\environments\\v1.4\\Manifest.toml`\n",
      "\u001b[90m [no changes]\u001b[39m\n",
      "\u001b[32m\u001b[1m  Resolving\u001b[22m\u001b[39m package versions...\n",
      "\u001b[32m\u001b[1m   Updating\u001b[22m\u001b[39m `C:\\Users\\Allen Vincent\\.julia\\environments\\v1.4\\Project.toml`\n",
      "\u001b[90m [no changes]\u001b[39m\n",
      "\u001b[32m\u001b[1m   Updating\u001b[22m\u001b[39m `C:\\Users\\Allen Vincent\\.julia\\environments\\v1.4\\Manifest.toml`\n",
      "\u001b[90m [no changes]\u001b[39m\n",
      "\u001b[32m\u001b[1m  Resolving\u001b[22m\u001b[39m package versions...\n",
      "\u001b[32m\u001b[1m   Updating\u001b[22m\u001b[39m `C:\\Users\\Allen Vincent\\.julia\\environments\\v1.4\\Project.toml`\n",
      "\u001b[90m [no changes]\u001b[39m\n",
      "\u001b[32m\u001b[1m   Updating\u001b[22m\u001b[39m `C:\\Users\\Allen Vincent\\.julia\\environments\\v1.4\\Manifest.toml`\n",
      "\u001b[90m [no changes]\u001b[39m\n",
      "\u001b[32m\u001b[1m  Resolving\u001b[22m\u001b[39m package versions...\n",
      "\u001b[32m\u001b[1m   Updating\u001b[22m\u001b[39m `C:\\Users\\Allen Vincent\\.julia\\environments\\v1.4\\Project.toml`\n",
      "\u001b[90m [no changes]\u001b[39m\n",
      "\u001b[32m\u001b[1m   Updating\u001b[22m\u001b[39m `C:\\Users\\Allen Vincent\\.julia\\environments\\v1.4\\Manifest.toml`\n",
      "\u001b[90m [no changes]\u001b[39m\n",
      "\u001b[32m\u001b[1m  Resolving\u001b[22m\u001b[39m package versions...\n",
      "\u001b[32m\u001b[1m   Updating\u001b[22m\u001b[39m `C:\\Users\\Allen Vincent\\.julia\\environments\\v1.4\\Project.toml`\n",
      "\u001b[90m [no changes]\u001b[39m\n",
      "\u001b[32m\u001b[1m   Updating\u001b[22m\u001b[39m `C:\\Users\\Allen Vincent\\.julia\\environments\\v1.4\\Manifest.toml`\n",
      "\u001b[90m [no changes]\u001b[39m\n",
      "\u001b[32m\u001b[1m  Resolving\u001b[22m\u001b[39m package versions...\n",
      "\u001b[32m\u001b[1m   Updating\u001b[22m\u001b[39m `C:\\Users\\Allen Vincent\\.julia\\environments\\v1.4\\Project.toml`\n",
      "\u001b[90m [no changes]\u001b[39m\n",
      "\u001b[32m\u001b[1m   Updating\u001b[22m\u001b[39m `C:\\Users\\Allen Vincent\\.julia\\environments\\v1.4\\Manifest.toml`\n",
      "\u001b[90m [no changes]\u001b[39m\n"
     ]
    }
   ],
   "source": [
    "using Pkg\n",
    "Pkg.add(\"PowerModels\")\n",
    "Pkg.add(\"JuMP\")\n",
    "Pkg.add(\"Memento\")\n",
    "Pkg.add(\"Distributed\")\n",
    "Pkg.add(\"Clp\")\n",
    "Pkg.add(\"Ipopt\")"
   ]
  },
  {
   "cell_type": "code",
   "execution_count": 2,
   "metadata": {},
   "outputs": [
    {
     "name": "stderr",
     "output_type": "stream",
     "text": [
      "┌ Info: Precompiling Ipopt [b6b21f68-93f8-5de0-b562-5493be1d77c9]\n",
      "└ @ Base loading.jl:1260\n"
     ]
    }
   ],
   "source": [
    "using PowerModels\n",
    "using JuMP\n",
    "using Memento\n",
    "using Distributed\n",
    "using Clp\n",
    "using Ipopt"
   ]
  },
  {
   "cell_type": "markdown",
   "metadata": {},
   "source": [
    "Parsing the data using PowerModels."
   ]
  },
  {
   "cell_type": "code",
   "execution_count": 274,
   "metadata": {},
   "outputs": [
    {
     "name": "stdout",
     "output_type": "stream",
     "text": [
      "\u001b[35m[warn | PowerModels]: this code only supports angmin values in -90 deg. to 90 deg., tightening the value on branch 1 from -360.0 to -60.0 deg.\u001b[39m\n",
      "\u001b[35m[warn | PowerModels]: this code only supports angmax values in -90 deg. to 90 deg., tightening the value on branch 1 from 360.0 to 60.0 deg.\u001b[39m\n",
      "\u001b[35m[warn | PowerModels]: this code only supports angmin values in -90 deg. to 90 deg., tightening the value on branch 2 from -360.0 to -60.0 deg.\u001b[39m\n",
      "\u001b[35m[warn | PowerModels]: this code only supports angmax values in -90 deg. to 90 deg., tightening the value on branch 2 from 360.0 to 60.0 deg.\u001b[39m\n",
      "\u001b[35m[warn | PowerModels]: no active generators found at bus 2, updating to bus type from 2 to 1\u001b[39m\n",
      "\u001b[35m[warn | PowerModels]: active generators found at bus 3, updating to bus type from 1 to 2\u001b[39m\n",
      "\u001b[32m[info | PowerModels]: removing 1 cost terms from generator 1: [100.0, 0.0]\u001b[39m\n",
      "\u001b[32m[info | PowerModels]: removing 1 cost terms from generator 2: [100.0, 0.0]\u001b[39m\n"
     ]
    },
    {
     "data": {
      "text/plain": [
       "ACPPowerModel(A JuMP Model\n",
       "Minimization problem with:\n",
       "Variables: 18\n",
       "Objective function type: GenericAffExpr{Float64,VariableRef}\n",
       "`GenericAffExpr{Float64,VariableRef}`-in-`MathOptInterface.EqualTo{Float64}`: 7 constraints\n",
       "`GenericAffExpr{Float64,VariableRef}`-in-`MathOptInterface.GreaterThan{Float64}`: 2 constraints\n",
       "`GenericAffExpr{Float64,VariableRef}`-in-`MathOptInterface.LessThan{Float64}`: 2 constraints\n",
       "`GenericQuadExpr{Float64,VariableRef}`-in-`MathOptInterface.LessThan{Float64}`: 4 constraints\n",
       "`VariableRef`-in-`MathOptInterface.GreaterThan{Float64}`: 15 constraints\n",
       "`VariableRef`-in-`MathOptInterface.LessThan{Float64}`: 15 constraints\n",
       "Nonlinear: 8 constraints\n",
       "Model mode: AUTOMATIC\n",
       "CachingOptimizer state: NO_OPTIMIZER\n",
       "Solver name: No optimizer attached., Dict{String,Any}(\"bus\" => Dict{String,Any}(\"1\" => Dict{String,Any}(\"zone\" => 1,\"bus_i\" => 1,\"bus_type\" => 3,\"vmax\" => 1.05,\"source_id\" => Any[\"bus\", 1],\"area\" => 1,\"vmin\" => 0.95,\"index\" => 1,\"va\" => 0.0,\"vm\" => 1.0…),\"2\" => Dict{String,Any}(\"zone\" => 1,\"bus_i\" => 2,\"bus_type\" => 1,\"vmax\" => 1.05,\"source_id\" => Any[\"bus\", 2],\"area\" => 1,\"vmin\" => 0.0,\"index\" => 2,\"va\" => -1.3962634015954636,\"vm\" => 1.0…),\"3\" => Dict{String,Any}(\"zone\" => 1,\"bus_i\" => 3,\"bus_type\" => 2,\"vmax\" => 1.05,\"source_id\" => Any[\"bus\", 3],\"area\" => 1,\"vmin\" => 0.95,\"index\" => 3,\"va\" => -1.3962634015954636,\"vm\" => 1.0…)),\"source_type\" => \"matpower\",\"name\" => \"case3\",\"dcline\" => Dict{String,Any}(),\"source_version\" => \"2\",\"gen\" => Dict{String,Any}(\"1\" => Dict{String,Any}(\"ncost\" => 2,\"qc1max\" => 0.0,\"pg\" => 4.0,\"model\" => 2,\"shutdown\" => 0.0,\"startup\" => 0.0,\"qc2max\" => 0.0,\"ramp_agc\" => 0.0,\"qg\" => 0.0,\"gen_bus\" => 1…),\"2\" => Dict{String,Any}(\"ncost\" => 2,\"qc1max\" => 0.0,\"pg\" => 0.0,\"model\" => 2,\"shutdown\" => 0.0,\"startup\" => 0.0,\"qc2max\" => 0.0,\"ramp_agc\" => 0.0,\"qg\" => 2.0,\"gen_bus\" => 3…)),\"branch\" => Dict{String,Any}(\"1\" => Dict{String,Any}(\"br_r\" => 0.04,\"rate_a\" => 99.99,\"shift\" => 0.0,\"rate_b\" => 99.99,\"br_x\" => 0.2,\"rate_c\" => 99.99,\"g_to\" => 0.0,\"g_fr\" => 0.0,\"source_id\" => Any[\"branch\", 1],\"b_fr\" => 0.0…),\"2\" => Dict{String,Any}(\"br_r\" => 0.0009,\"rate_a\" => 99.99,\"shift\" => 0.0,\"rate_b\" => 99.99,\"br_x\" => 0.001,\"rate_c\" => 99.99,\"g_to\" => 0.0,\"g_fr\" => 0.0,\"source_id\" => Any[\"branch\", 2],\"b_fr\" => 0.0…)),\"storage\" => Dict{String,Any}(),\"switch\" => Dict{String,Any}(),\"baseMVA\" => 100…), Dict{String,Any}(), Dict{String,Any}(), Dict{Symbol,Any}(:nw => Dict{Int64,Any}(0 => Dict{Symbol,Any}(:arcs_dc => Tuple{Int64,Any,Any}[],:arcs_to => [(2, 3, 2), (1, 2, 1)],:bus_gens => Dict(2 => [],3 => [2],1 => [1]),:switch => Dict{Int64,Any}(),:bus_arcs => Dict(2 => [(2, 2, 3), (1, 2, 1)],3 => [(2, 3, 2)],1 => [(1, 1, 2)]),:buspairs => Dict{Tuple{Int64,Int64},Dict{String,Real}}((1, 2) => Dict(\"vm_to_min\" => 0.0,\"vm_fr_min\" => 0.95,\"angmin\" => -1.0472,\"branch\" => 1,\"angmax\" => 1.0472,\"rate_a\" => 99.99,\"tap\" => 1.0,\"vm_to_max\" => 1.05,\"vm_fr_max\" => 1.05),(2, 3) => Dict(\"vm_to_min\" => 0.95,\"vm_fr_min\" => 0.0,\"angmin\" => -1.0472,\"branch\" => 2,\"angmax\" => 1.0472,\"rate_a\" => 99.99,\"tap\" => 1.0,\"vm_to_max\" => 1.05,\"vm_fr_max\" => 1.05)),:bus => Dict{Int64,Any}(2 => Dict{String,Any}(\"zone\" => 1,\"bus_i\" => 2,\"bus_type\" => 1,\"vmax\" => 1.05,\"source_id\" => Any[\"bus\", 2],\"area\" => 1,\"vmin\" => 0.0,\"index\" => 2,\"va\" => -1.3962634015954636,\"vm\" => 1.0…),3 => Dict{String,Any}(\"zone\" => 1,\"bus_i\" => 3,\"bus_type\" => 2,\"vmax\" => 1.05,\"source_id\" => Any[\"bus\", 3],\"area\" => 1,\"vmin\" => 0.95,\"index\" => 3,\"va\" => -1.3962634015954636,\"vm\" => 1.0…),1 => Dict{String,Any}(\"zone\" => 1,\"bus_i\" => 1,\"bus_type\" => 3,\"vmax\" => 1.05,\"source_id\" => Any[\"bus\", 1],\"area\" => 1,\"vmin\" => 0.95,\"index\" => 1,\"va\" => 0.0,\"vm\" => 1.0…)),:dcline => Dict{Int64,Any}(),:arcs_to_dc => Tuple{Int64,Any,Any}[],:arcs_to_sw => Tuple{Int64,Any,Any}[]…)),:per_unit => true), Dict{Symbol,Any}(:nw => Dict{Int64,Any}(0 => Dict{Symbol,Any}(:qg => 1-dimensional DenseAxisArray{VariableRef,1,...} with index sets:\n",
       "    Dimension 1, [2, 1]\n",
       "And data, a 2-element Array{VariableRef,1}:\n",
       " 0_qg[2]\n",
       " 0_qg[1],:va => 1-dimensional DenseAxisArray{VariableRef,1,...} with index sets:\n",
       "    Dimension 1, [2, 3, 1]\n",
       "And data, a 3-element Array{VariableRef,1}:\n",
       " 0_va[2]\n",
       " 0_va[3]\n",
       " 0_va[1],:p => 1-dimensional DenseAxisArray{VariableRef,1,...} with index sets:\n",
       "    Dimension 1, [(2, 2, 3), (1, 1, 2), (2, 3, 2), (1, 2, 1)]\n",
       "And data, a 4-element Array{VariableRef,1}:\n",
       " 0_p[(2, 2, 3)]\n",
       " 0_p[(1, 1, 2)]\n",
       " 0_p[(2, 3, 2)]\n",
       " 0_p[(1, 2, 1)],:vm => 1-dimensional DenseAxisArray{VariableRef,1,...} with index sets:\n",
       "    Dimension 1, [2, 3, 1]\n",
       "And data, a 3-element Array{VariableRef,1}:\n",
       " 0_vm[2]\n",
       " 0_vm[3]\n",
       " 0_vm[1],:pg => 1-dimensional DenseAxisArray{VariableRef,1,...} with index sets:\n",
       "    Dimension 1, [2, 1]\n",
       "And data, a 2-element Array{VariableRef,1}:\n",
       " 0_pg[2]\n",
       " 0_pg[1],:q_dc => 1-dimensional DenseAxisArray{VariableRef,1,...} with index sets:\n",
       "    Dimension 1, Tuple{Int64,Any,Any}[]\n",
       "And data, a 0-element Array{VariableRef,1},:q => 1-dimensional DenseAxisArray{VariableRef,1,...} with index sets:\n",
       "    Dimension 1, [(2, 2, 3), (1, 1, 2), (2, 3, 2), (1, 2, 1)]\n",
       "And data, a 4-element Array{VariableRef,1}:\n",
       " 0_q[(2, 2, 3)]\n",
       " 0_q[(1, 1, 2)]\n",
       " 0_q[(2, 3, 2)]\n",
       " 0_q[(1, 2, 1)],:p_dc => 1-dimensional DenseAxisArray{VariableRef,1,...} with index sets:\n",
       "    Dimension 1, Tuple{Int64,Any,Any}[]\n",
       "And data, a 0-element Array{VariableRef,1}))), Dict{Symbol,Any}(:nw => Dict{Int64,Any}(0 => Dict{Symbol,Any}())), Dict{Symbol,Any}(:nw => Dict{Int64,Any}(0 => Dict{Symbol,Any}(:branch => Dict{Any,Any}(2 => Dict{Any,Any}(:qt => 0_q[(2, 3, 2)],:pt => 0_p[(2, 3, 2)],:qf => 0_q[(2, 2, 3)],:pf => 0_p[(2, 2, 3)]),1 => Dict{Any,Any}(:qt => 0_q[(1, 2, 1)],:pt => 0_p[(1, 2, 1)],:qf => 0_q[(1, 1, 2)],:pf => 0_p[(1, 1, 2)])),:gen => Dict{Any,Any}(2 => Dict{Any,Any}(:qg => 0_qg[2],:pg => 0_pg[2]),1 => Dict{Any,Any}(:qg => 0_qg[1],:pg => 0_pg[1])),:bus => Dict{Any,Any}(2 => Dict{Any,Any}(:va => 0_va[2],:vm => 0_vm[2]),3 => Dict{Any,Any}(:va => 0_va[3],:vm => 0_vm[3]),1 => Dict{Any,Any}(:va => 0_va[1],:vm => 0_vm[1]))))), Dict{Symbol,Any}(:nw => Dict{Int64,Any}(0 => Dict{Symbol,Any}())), 0, Dict{Symbol,Any}())"
      ]
     },
     "execution_count": 274,
     "metadata": {},
     "output_type": "execute_result"
    }
   ],
   "source": [
    "network_data = PowerModels.parse_file(\"MatPowerData/case3.m\")\n",
    "pm = instantiate_model(network_data, ACPPowerModel, PowerModels.build_opf)"
   ]
  },
  {
   "cell_type": "markdown",
   "metadata": {},
   "source": [
    "Data that remains constant throughtout the algorithm."
   ]
  },
  {
   "cell_type": "code",
   "execution_count": 275,
   "metadata": {},
   "outputs": [],
   "source": [
    "\"\"\"\n",
    "Constant data (for a network)\n",
    "\n",
    "\"\"\"\n",
    "\n",
    "# Number of generators \n",
    "num_gen = 0\n",
    "for i in keys(network_data[\"gen\"])\n",
    "    num_gen+=1\n",
    "end\n",
    "\n",
    "# Number of buses\n",
    "num_bus = 0\n",
    "for i in keys(network_data[\"bus\"])\n",
    "    num_bus+=1\n",
    "end\n",
    "\n",
    "# Number of PQ, PV and reference buses\n",
    "num_PQ = 0\n",
    "num_PV = 0\n",
    "num_ref = 0\n",
    "for i in keys(network_data[\"bus\"])\n",
    "    if network_data[\"bus\"][i][\"bus_type\"] == 1\n",
    "        num_PQ+=1\n",
    "    elseif network_data[\"bus\"][i][\"bus_type\"] == 2\n",
    "        num_PV+=1\n",
    "    else\n",
    "        num_ref=1\n",
    "    end\n",
    "end\n",
    "\n",
    "# Number of branches\n",
    "num_branch = 0\n",
    "for i in keys(network_data[\"branch\"])\n",
    "   num_branch+=1 \n",
    "end\n",
    "\n",
    "# Edges at each bus (origin and destination)\n",
    "f_loc = Array{Float64}(undef,num_branch)\n",
    "t_loc = Array{Float64}(undef,num_branch)\n",
    "\n",
    "for (i,branch) in ref(pm,:branch)\n",
    "    f_loc[i] = branch[\"f_bus\"]\n",
    "    t_loc[i] = branch[\"t_bus\"]\n",
    "end\n",
    "\n",
    "bus_f = []\n",
    "bus_t = []\n",
    "\n",
    "for (i,bus) in ref(pm,:bus)\n",
    "    for j in 1:num_branch\n",
    "        if i == f_loc[j]\n",
    "            a = (i,j)\n",
    "            push!(bus_f,a)\n",
    "        elseif i == t_loc[j]\n",
    "            a = (i,j)\n",
    "            push!(bus_t,a)\n",
    "        end\n",
    "    end\n",
    "end\n",
    "\n",
    "# Generators at each bus\n",
    "gen_loc = Array{Float64}(undef,num_gen)\n",
    "for (i,gen) in ref(pm,:gen)\n",
    "   gen_loc[i] = gen[\"gen_bus\"]\n",
    "end\n",
    "\n",
    "bus_gen = []\n",
    "\n",
    "for (i,bus) in ref(pm,:bus)\n",
    "    for j in 1:num_gen\n",
    "        if i == gen_loc[j]\n",
    "            a = (i,j)\n",
    "            push!(bus_gen,a) \n",
    "        end\n",
    "    end\n",
    "end\n",
    "\n",
    "# Shunt Conductance and Susceptance\n",
    "gs_bus = ones(num_bus)\n",
    "bs_bus = ones(num_bus)\n",
    "for i in keys(network_data[\"shunt\"])\n",
    "    index = network_data[\"shunt\"][i][\"index\"]\n",
    "    gs_bus[index] = network_data[\"shunt\"][i][\"gs\"]\n",
    "    bs_bus[index] = network_data[\"shunt\"][i][\"bs\"]\n",
    "end\n",
    "\n",
    "# Demand at bus\n",
    "pd_bus = zeros(num_bus)\n",
    "qd_bus = zeros(num_bus)\n",
    "for i in keys(network_data[\"load\"])\n",
    "    index = network_data[\"load\"][i][\"load_bus\"]\n",
    "    pd_bus[index] = network_data[\"load\"][i][\"pd\"]\n",
    "    qd_bus[index] = network_data[\"load\"][i][\"qd\"]\n",
    "end"
   ]
  },
  {
   "cell_type": "markdown",
   "metadata": {},
   "source": [
    "Power Flow Step"
   ]
  },
  {
   "cell_type": "code",
   "execution_count": 276,
   "metadata": {},
   "outputs": [
    {
     "data": {
      "text/plain": [
       "Dict{String,Any} with 2 entries:\n",
       "  \"1\" => Dict(\"qg\"=>1.29239,\"pg\"=>4.35924)\n",
       "  \"2\" => Dict(\"qg\"=>2.85039,\"pg\"=>0.0)"
      ]
     },
     "execution_count": 276,
     "metadata": {},
     "output_type": "execute_result"
    }
   ],
   "source": [
    "# Power Flow Step\n",
    "result_pf = PowerModels.compute_ac_pf(network_data)\n",
    "PowerModels.update_data!(network_data, result_pf)\n",
    "flows = PowerModels.calc_branch_flow_ac(network_data)\n",
    "PowerModels.update_data!(network_data, flows)\n",
    "\n",
    "result_pf[\"gen\"]"
   ]
  },
  {
   "cell_type": "code",
   "execution_count": 277,
   "metadata": {},
   "outputs": [],
   "source": [
    "\"\"\"\n",
    "Data Wrangling: LP Step\n",
    "\n",
    "\"\"\"\n",
    "# Cost Arrays\n",
    "d_cost = Array{Float64}(undef,num_gen)       # derivative of cost    \n",
    "cost = Array{Float64}(undef,num_gen)         # cost\n",
    "for i in keys(network_data[\"gen\"])\n",
    "    #(a,b,c) = network_data[\"gen\"][i][\"cost\"]\n",
    "    #index = network_data[\"gen\"][i][\"index\"]\n",
    "    #y = network_data[\"gen\"][i][\"pg\"]\n",
    "    #if y != 0\n",
    "    #    d_cost[index] = (2*a*y + b)\n",
    "    #    cost[index] = ((a*y*y)+(b*y)+ c)\n",
    "    #else\n",
    "    #    d_cost[index] = 0\n",
    "    #    cost[index] = 0\n",
    "    #end\n",
    "    \n",
    "    (a,b) = network_data[\"gen\"][i][\"cost\"]\n",
    "    index = network_data[\"gen\"][i][\"index\"]\n",
    "    y = network_data[\"gen\"][i][\"pg\"]\n",
    "    d_cost[index] = (a)\n",
    "    cost[index] = ((a*y) + b)\n",
    "end\n",
    "\n",
    "# Line Flow Values\n",
    "p_t = Array{Float64}(undef,num_branch)\n",
    "p_f = Array{Float64}(undef,num_branch)\n",
    "q_t = Array{Float64}(undef,num_branch)\n",
    "q_f = Array{Float64}(undef,num_branch)\n",
    "rate_a = Array{Float64}(undef,num_branch)\n",
    "for i in keys(network_data[\"branch\"])\n",
    "    index = network_data[\"branch\"][i][\"index\"]\n",
    "    p_t[index] = network_data[\"branch\"][i][\"pt\"]\n",
    "    q_t[index] = network_data[\"branch\"][i][\"qt\"]\n",
    "    p_f[index] = network_data[\"branch\"][i][\"pf\"]\n",
    "    q_f[index] = network_data[\"branch\"][i][\"qf\"]\n",
    "    rate_a[index] = network_data[\"branch\"][i][\"rate_a\"]\n",
    "end\n",
    "\n",
    "# Voltage magnitude and angle\n",
    "v_m = Array{Float64}(undef,num_bus)\n",
    "v_a = Array{Float16}(undef,num_bus)\n",
    "for i in keys(network_data[\"bus\"])\n",
    "    index = network_data[\"bus\"][i][\"index\"]\n",
    "    v_m[index] = network_data[\"bus\"][i][\"vm\"]\n",
    "    v_a[index] = network_data[\"bus\"][i][\"va\"]\n",
    "end\n",
    "\n",
    "# Values of real and reactive powers at pf solution\n",
    "p_g = Array{Float64}(undef,num_gen)\n",
    "q_g = Array{Float64}(undef,num_gen)\n",
    "for i in keys(network_data[\"gen\"])\n",
    "    index = network_data[\"gen\"][i][\"index\"]\n",
    "    p_g[index] = network_data[\"gen\"][i][\"pg\"]\n",
    "    q_g[index] = network_data[\"gen\"][i][\"qg\"]\n",
    "end"
   ]
  },
  {
   "cell_type": "code",
   "execution_count": 278,
   "metadata": {},
   "outputs": [],
   "source": [
    "susceptance = PowerModels.calc_susceptance_matrix(network_data)\n",
    "bl = susceptance.matrix\n",
    "admittance = PowerModels.calc_admittance_matrix(network_data)\n",
    "yl = admittance.matrix\n",
    "gl = real(yl)\n",
    "\n",
    "sf = Array{Float64}(undef,num_branch)\n",
    "cf = Array{Float64}(undef,num_branch)\n",
    "st = Array{Float64}(undef,num_branch)\n",
    "ct = Array{Float64}(undef,num_branch)\n",
    "for (i,branch) in ref(pm,:branch)\n",
    "    f = branch[\"f_bus\"]\n",
    "    t = branch[\"t_bus\"]\n",
    "    sf[i] = sin(v_a[f] - v_a[t])\n",
    "    cf[i] = cos(v_a[f] - v_a[t])\n",
    "    st[i] = sin(v_a[t] - v_a[f])\n",
    "    ct[i] = cos(v_a[t] - v_a[f])\n",
    "end\n"
   ]
  },
  {
   "cell_type": "code",
   "execution_count": 269,
   "metadata": {},
   "outputs": [
    {
     "data": {
      "text/plain": [
       "MathOptInterface.OptimizerWithAttributes(Clp.Optimizer, Pair{MathOptInterface.AbstractOptimizerAttribute,Any}[MathOptInterface.RawParameter(\"PrimalTolerance\") => 1.0e-6])"
      ]
     },
     "execution_count": 269,
     "metadata": {},
     "output_type": "execute_result"
    }
   ],
   "source": [
    "solver = JuMP.with_optimizer(Clp.Optimizer, PrimalTolerance=1e-6)"
   ]
  },
  {
   "cell_type": "code",
   "execution_count": 281,
   "metadata": {},
   "outputs": [
    {
     "data": {
      "text/latex": [
       "$$ 100 pg_{1} + 100 pg_{2} $$"
      ],
      "text/plain": [
       "100 pg[1] + 100 pg[2]"
      ]
     },
     "execution_count": 281,
     "metadata": {},
     "output_type": "execute_result"
    }
   ],
   "source": [
    "\"\"\"\n",
    "LP Step Formulation\n",
    "\n",
    "\"\"\"\n",
    "LP_step = Model(solver)\n",
    "\n",
    "\n",
    "@variable(LP_step, pg[i = 1:num_gen])\n",
    "@variable(LP_step, qg[i = 1:num_gen])\n",
    "\n",
    "@variable(LP_step, pf[i = 1:num_branch])\n",
    "@variable(LP_step, qf[i = 1:num_branch])\n",
    "@variable(LP_step, pt[i = 1:num_branch])\n",
    "@variable(LP_step, qt[i = 1:num_branch])\n",
    "\n",
    "@variable(LP_step, vm[i = 1:num_bus])\n",
    "@variable(LP_step, va[i = 1:num_bus])\n",
    "\n",
    "\n",
    "# Voltage magnitude limit\n",
    "for (i,bus) in ref(pm,:bus)\n",
    "    index = bus[\"index\"]\n",
    "    @constraint(LP_step, vm[index] <= bus[\"vmax\"]) \n",
    "    @constraint(LP_step, vm[index] >= bus[\"vmin\"]) \n",
    "end\n",
    "\n",
    "# Real and reactive power generation limits\n",
    "for (i,gen) in ref(pm,:gen)\n",
    "    index = gen[\"index\"]\n",
    "    @constraint(LP_step, pg[index] <= gen[\"pmax\"]) \n",
    "    @constraint(LP_step, pg[index] >= 0)\n",
    "    \n",
    "end\n",
    "\n",
    "# Voltage Angle\n",
    "for (i,bus) in ref(pm,:bus)\n",
    "    index = bus[\"index\"]\n",
    "    if bus[\"bus_type\"] == 3\n",
    "        @constraint(LP_step, va[index] == 0)\n",
    "    end\n",
    "end\n",
    "\n",
    "\n",
    "# Thermal limit\n",
    "for (i, branch) in ref(pm,:branch)\n",
    "    index = branch[\"index\"]\n",
    "    @constraint(LP_step, 2*pf[index]*p_f[index] + 2*qf[index]*q_f[index] <= 2*rate_a[index]^2 + p_f[index]^2 + q_f[index]^2)\n",
    "    @constraint(LP_step, 2*pt[index]*p_t[index] + 2*qt[index]*q_t[index] <= 2*rate_a[index]^2 + p_t[index]^2 + q_t[index]^2)\n",
    "end\n",
    "\n",
    "\n",
    "# Linearised KCL Constraints\n",
    "set_g = []\n",
    "set_f = []\n",
    "set_t = []\n",
    "\n",
    "for i in 1:num_bus\n",
    "    for j in 1:num_gen\n",
    "        if i == bus_gen[j][1]\n",
    "            a = bus_gen[j][2]\n",
    "            push!(set_g,a)  \n",
    "        end\n",
    "    end\n",
    "    for k in 1:num_branch\n",
    "        if i == bus_f[k][1]\n",
    "            a = bus_f[k][2]\n",
    "            push!(set_f,a)\n",
    "        elseif i == bus_t[k][1]\n",
    "            a = bus_t[k][2]\n",
    "            push!(set_t,a)\n",
    "        end\n",
    "    end\n",
    "    @constraint(LP_step, sum(pg[g] for g in set_g)  == \n",
    "                         sum(pf[f] for f in set_f) + pd_bus[i])\n",
    "                        \n",
    "    @constraint(LP_step, sum(qg[g] for g in set_g)  == \n",
    "                          sum(qf[f] for f in set_f) + sum(qt[t] for t in set_t) + qd_bus[i] - \n",
    "                             bl[i,i]*(2*vm[i]*v_m[i] + v_m[i]^2))\n",
    "    set_g = []\n",
    "    set_f = []\n",
    "    set_t = []\n",
    "end\n",
    "\n",
    "\n",
    "for (i,branch) in ref(pm,:branch)\n",
    "    f = branch[\"f_bus\"]\n",
    "    t = branch[\"t_bus\"]\n",
    "    \n",
    "@constraint(LP_step, pf[i] == gl[f,f]*(2*vm[f]*v_m[f] - v_m[f]^2) + v_m[f]*v_m[t]*(bl[f,t]*sf[i] + gl[f,t]*cf[i]) +\n",
    "                                  (vm[f] - v_m[f])*v_m[t]*(bl[f,t]*sf[i] + gl[f,t]*cf[i]) +\n",
    "                                  (vm[t] - v_m[t])*v_m[f]*(bl[f,t]*sf[i] + gl[f,t]*cf[i]) +  \n",
    "                                  (va[f] - v_a[f])*v_m[f]*v_m[t]*(bl[f,t]*cf[i] - gl[f,t]*sf[i]) +\n",
    "                                  (va[t] - v_a[t])*v_m[f]*v_m[t]*(-bl[f,t]*cf[i] + gl[f,t]*sf[i]))\n",
    "    \n",
    "@constraint(LP_step, pt[i] == gl[t,t]*(2*vm[t]*v_m[t] - v_m[t]^2) + v_m[f]*v_m[t]*(bl[t,f]*st[i] + gl[t,f]*ct[i]) +\n",
    "                                  (vm[f] - v_m[f])*v_m[t]*(bl[t,f]*st[i] + gl[t,f]*ct[i]) +\n",
    "                                  (vm[t] - v_m[t])*v_m[f]*(bl[t,f]*st[i] + gl[t,f]*ct[i]) +  \n",
    "                                  (va[f] - v_a[f])*v_m[f]*v_m[t]*(-bl[t,f]*ct[i] + gl[t,f]*st[i]) +\n",
    "                                  (va[t] - v_a[t])*v_m[f]*v_m[t]*(bl[t,f]*ct[i] - gl[t,f]*st[i]))\n",
    "    \n",
    "@constraint(LP_step, qf[i] == -bl[f,f]*(2*vm[f]*v_m[f] - v_m[f]^2) + v_m[f]*v_m[t]*(gl[f,t]*sf[i] - bl[f,t]*cf[i]) +\n",
    "                                  (vm[f] - v_m[f])*v_m[t]*(gl[f,t]*sf[i] - bl[f,t]*cf[i]) +\n",
    "                                  (vm[t] - v_m[t])*v_m[f]*(gl[f,t]*sf[i] - bl[f,t]*cf[i]) +  \n",
    "                                  (va[f] - v_a[f])*v_m[f]*v_m[t]*(gl[f,t]*cf[i] + bl[f,t]*sf[i]) +\n",
    "                                  (va[t] - v_a[t])*v_m[f]*v_m[t]*(-gl[f,t]*cf[i] - bl[f,t]*sf[i]))\n",
    "    \n",
    "@constraint(LP_step, qt[i] == -bl[t,t]*(2*vm[t]*v_m[t] - v_m[t]^2) + v_m[f]*v_m[t]*(gl[t,f]*st[i] - bl[t,f]*ct[i]) +\n",
    "                                  (vm[f] - v_m[f])*v_m[t]*(gl[t,f]*st[i] - bl[t,f]*ct[i]) +\n",
    "                                  (vm[t] - v_m[t])*v_m[f]*(gl[t,f]*st[i] - bl[t,f]*ct[i]) +  \n",
    "                                  (va[f] - v_a[f])*v_m[f]*v_m[t]*(-gl[t,f]*ct[i] - bl[t,f]*st[i]) +\n",
    "                                  (va[t] - v_a[t])*v_m[f]*v_m[t]*(gl[t,f]*ct[i] + bl[t,f]*st[i]))\n",
    "end\n",
    "\n",
    "\n",
    "@objective(LP_step, Min, sum((d_cost[i]*(pg[i] - p_g[i])) + cost[i] for i=1:num_gen))"
   ]
  },
  {
   "cell_type": "code",
   "execution_count": 282,
   "metadata": {},
   "outputs": [
    {
     "name": "stdout",
     "output_type": "stream",
     "text": [
      "Coin0506I Presolve 0 (-29) rows, 0 (-18) columns and 0 (-71) elements\n",
      "Clp3002W Empty problem - 0 rows, 0 columns and 0 elements\n",
      "Clp0000I Optimal - objective value 0\n",
      "Coin0511I After Postsolve, objective 0, infeasibilities - dual 0 (0), primal 0 (0)\n",
      "Clp0032I Optimal objective 0 - 0 iterations time 0.002, Presolve 0.00\n"
     ]
    },
    {
     "data": {
      "text/plain": [
       "OPTIMAL::TerminationStatusCode = 1"
      ]
     },
     "execution_count": 282,
     "metadata": {},
     "output_type": "execute_result"
    }
   ],
   "source": [
    "optimize!(LP_step)\n",
    "termination_status(LP_step)"
   ]
  },
  {
   "cell_type": "code",
   "execution_count": 272,
   "metadata": {},
   "outputs": [
    {
     "name": "stdout",
     "output_type": "stream",
     "text": [
      "0.0   0.0   \n",
      "\n",
      "2: 0.0     "
     ]
    }
   ],
   "source": [
    "ref_bus = 0\n",
    "for i in keys(network_data[\"bus\"])\n",
    "    if network_data[\"bus\"][i][\"bus_type\"] == 3\n",
    "        ref_bus = ref_bus = network_data[\"bus\"][i][\"index\"]\n",
    "    end\n",
    "end\n",
    "\n",
    "delta = Array{Float64}(undef, num_gen)\n",
    "for i in 1:num_gen\n",
    "    delta[i] = JuMP.value(pg[i])\n",
    "    print(delta[i],\"   \")\n",
    "end\n",
    "\n",
    "print(\"\\n\\n\")\n",
    "for i in keys(network_data[\"gen\"])\n",
    "    if network_data[\"gen\"][i][\"gen_bus\"] != ref_bus\n",
    "        index = network_data[\"gen\"][i][\"index\"]\n",
    "        network_data[\"gen\"][i][\"pg\"] = delta[index]\n",
    "        print(index,\": \",network_data[\"gen\"][i][\"pg\"], \"     \")\n",
    "    end\n",
    "end\n"
   ]
  },
  {
   "cell_type": "code",
   "execution_count": 273,
   "metadata": {},
   "outputs": [
    {
     "name": "stdout",
     "output_type": "stream",
     "text": [
      "0.95   0.18632633619449063   0.95   \n",
      "\n",
      "0.95   3: 0.95     "
     ]
    }
   ],
   "source": [
    "delta_v = Array{Float64}(undef,num_bus)\n",
    "for i in 1:num_bus\n",
    "    delta_v[i] = JuMP.value(vm[i])\n",
    "    print(delta_v[i],\"   \")\n",
    "end\n",
    "print(\"\\n\\n\")\n",
    "for i in keys(network_data[\"bus\"])\n",
    "    index = network_data[\"bus\"][i][\"index\"]\n",
    "    if network_data[\"bus\"][i][\"bus_type\"] == 2\n",
    "        print(delta_v[index], \"   \")\n",
    "        network_data[\"bus\"][i][\"vm\"] = delta_v[index]\n",
    "        print(index,\": \",network_data[\"bus\"][i][\"vm\"], \"     \")\n",
    "    end\n",
    "end"
   ]
  },
  {
   "cell_type": "markdown",
   "metadata": {},
   "source": [
    "Loop back to the power flow step."
   ]
  }
 ],
 "metadata": {
  "kernelspec": {
   "display_name": "Julia 1.4.2",
   "language": "julia",
   "name": "julia-1.4"
  },
  "language_info": {
   "file_extension": ".jl",
   "mimetype": "application/julia",
   "name": "julia",
   "version": "1.4.2"
  }
 },
 "nbformat": 4,
 "nbformat_minor": 4
}
